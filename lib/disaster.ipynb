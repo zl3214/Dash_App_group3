{
 "cells": [
  {
   "cell_type": "markdown",
   "id": "cddfb4d5",
   "metadata": {},
   "source": [
    "## Analysis Content\n",
    "1. [introduction](#0)\n",
    "1. [Python Libraries](#1)\n",
    "1. [Color Maps](#1.5)\n",
    "1. [Data Content](#2)\n",
    "1. [Read Data From APIs](#3)\n",
    "1. [Disaster Distribution Pie](#4)\n",
    "1. [Data Wrangling](#5)\n",
    "1. [Dash App](#6)\n",
    "1. [Summary](#7)"
   ]
  },
  {
   "cell_type": "markdown",
   "source": [],
   "metadata": {
    "collapsed": false
   },
   "id": "63221d744a8dc841"
  },
  {
   "cell_type": "markdown",
   "id": "a8f31237",
   "metadata": {},
   "source": [
    "<a id=\"0\"></a>\n",
    "# Introduction\n",
    "In this project, we leverage the Dash framework to build a web application designed for comprehensive analysis of disaster incidents across U.S. states. The application not only examines the frequency and types of disasters occurring in each state but also correlates them with the corresponding federal emergency funding that has been granted. This enables stakeholders to gain insights into the effectiveness of resource allocation and to identify areas in need of additional support. The application incorporates advanced geospatial visualization techniques to provide a more intuitive understanding of the allocation of federal funding and the types of disasters occurring across U.S. states. Utilizing a color-coded map, the intensity of the color signifies either the magnitude of granted federal funding or the frequency of disaster incidents. Users can interactively click on individual states to access detailed data and insights. This Dash-powered platform offers a nuanced and comprehensive view of the disaster landscape and associated federal financial support across different regions of the United States. The datasets we used are Disaster Declarations Summaries and Emergency Management Performance Grants which can be found on https://www.fema.gov/about/openfema/data-sets.\n",
    "![Image description](https://na.rdcpix.com/54718871/8ecb8b5c10a19ccbe1daba7bc38ec77cw-c297333xd-w640_h480_q80.jpg)"
   ]
  },
  {
   "cell_type": "markdown",
   "id": "1790d086",
   "metadata": {},
   "source": [
    "<a id=\"1\"></a>\n",
    "## Python Libraries"
   ]
  },
  {
   "cell_type": "code",
   "execution_count": 1,
   "id": "b8b41f93",
   "metadata": {
    "ExecuteTime": {
     "end_time": "2023-10-11T15:03:03.514259Z",
     "start_time": "2023-10-11T15:03:03.509696400Z"
    }
   },
   "outputs": [],
   "source": [
    "# conda install -c plotly dash-core-components"
   ]
  },
  {
   "cell_type": "code",
   "execution_count": 2,
   "id": "b08068ad",
   "metadata": {
    "ExecuteTime": {
     "end_time": "2023-10-11T15:03:03.522032600Z",
     "start_time": "2023-10-11T15:03:03.513284500Z"
    }
   },
   "outputs": [],
   "source": [
    "# conda install dash-html-components"
   ]
  },
  {
   "cell_type": "code",
   "execution_count": 1,
   "id": "fae4a022",
   "metadata": {
    "ExecuteTime": {
     "end_time": "2023-10-11T19:34:26.763884500Z",
     "start_time": "2023-10-11T19:34:25.678639500Z"
    }
   },
   "outputs": [],
   "source": [
    "import requests\n",
    "import json\n",
    "from matplotlib.colors import LinearSegmentedColormap\n",
    "import numpy as np\n",
    "import matplotlib.pyplot as plt\n",
    "import dash\n",
    "from dash import Dash, dcc, html, Input, Output\n",
    "import plotly.express as px\n",
    "import pandas as pd"
   ]
  },
  {
   "cell_type": "markdown",
   "id": "fe558273",
   "metadata": {},
   "source": [
    "<a id=\"1.5\"></a>\n",
    "## Color Maps\n",
    "We use 2 customized maps for choropleth maps. One is Tiffany Blue, another is regular red."
   ]
  },
  {
   "cell_type": "code",
   "execution_count": 4,
   "id": "57261fef",
   "metadata": {
    "ExecuteTime": {
     "end_time": "2023-10-11T15:03:04.771337900Z",
     "start_time": "2023-10-11T15:03:04.764397Z"
    }
   },
   "outputs": [],
   "source": [
    "custom_tiffany_scale = ['#E0F2F1', '#B2DFDB', '#80CBC4', '#4DB6AC', '#26A69A', '#009688', '#00897B', '#00796B', '#00695C', '#004D40']\n",
    "custom_red_scale = ['lightcoral', 'darkred']"
   ]
  },
  {
   "cell_type": "code",
   "execution_count": 5,
   "id": "26841ae0",
   "metadata": {
    "ExecuteTime": {
     "end_time": "2023-10-11T15:03:05.007200700Z",
     "start_time": "2023-10-11T15:03:04.767338Z"
    }
   },
   "outputs": [
    {
     "data": {
      "text/plain": "<Figure size 900x100 with 2 Axes>",
      "image/png": "[encoded data removed]"
     },
     "metadata": {},
     "output_type": "display_data"
    },
    {
     "data": {
      "text/plain": "<Figure size 900x100 with 2 Axes>",
      "image/png": "[encoded data removed]"
     },
     "metadata": {},
     "output_type": "display_data"
    }
   ],
   "source": [
    "tiffany_cmap = LinearSegmentedColormap.from_list('custom_tiffany_scale', custom_tiffany_scale)\n",
    "red_cmap = LinearSegmentedColormap.from_list('custom_red_scale', custom_red_scale)\n",
    "\n",
    "a = np.array([[0,1]])\n",
    "\n",
    "plt.figure(figsize=(9, 1))\n",
    "img = plt.imshow(a, cmap=tiffany_cmap)\n",
    "plt.gca().set_visible(False)\n",
    "cax = plt.axes([0.1, 0.2, 0.8, 0.6])\n",
    "plt.colorbar(orientation=\"horizontal\", cax=cax)\n",
    "plt.figure(figsize=(9, 1))\n",
    "img = plt.imshow(a, cmap=red_cmap)\n",
    "plt.gca().set_visible(False)\n",
    "cax = plt.axes([0.1, 0.2, 0.8, 0.6])\n",
    "plt.colorbar(orientation=\"horizontal\", cax=cax)\n",
    "plt.show()"
   ]
  },
  {
   "cell_type": "markdown",
   "id": "f5544fe5",
   "metadata": {},
   "source": [
    "<a id=\"2\"></a>\n",
    "## Data Content\n",
    "##### Disaster Declaration Summaries\n",
    "This dataset provides information on federal disaster declarations, summarized by the U.S. state and the type of incident. Disaster declaration summaries are official statements issued by authorities to formally recognize a situation as a disaster, serving as a legal mechanism to unlock special laws, funds, and resources for response and recovery. These summaries also function as a tool for public awareness and inter-agency coordination, as well as providing official documentation for the scope and scale of the event, which can be critical for future risk assessment and planning. Various types of emergencies, from natural to man-made, can prompt such declarations. The data is sourced from the Federal Emergency Management Agency (FEMA) and includes the following key columns:\n",
    "\n",
    "1. **state:** The U.S. state where the disaster occurred.\n",
    "2. **incidentType:** The type of disaster (e.g., Flood, Hurricane, Earthquake, etc.).\n",
    "\n",
    "##### Emergency Management Performance Grants\n",
    "Emergency Management Performance Grants (EMPG) are federal grants provided to state and local governments to enhance their emergency management and preparedness capabilities. Administered by the Federal Emergency Management Agency (FEMA), the grants aim to support efforts that help communities effectively prepare for, respond to, and recover from emergencies and disasters. Funding can be used for a range of activities, including planning, training, exercises, and equipment purchases, among other things. The overall objective is to improve the ability of jurisdictions to save lives, protect property, and reduce human suffering during natural and man-made incidents. By providing financial assistance, the EMPG program aims to ensure that state and local agencies have the resources they need to maintain and improve their emergency management operations. The data includes the following key columns:\n",
    "\n",
    "3. **id:** Unique identifier for each grant.\n",
    "4. **reportingPeriod:** The period during which the grant was reported.\n",
    "5. **state:** The U.S. state receiving the grant.\n",
    "6. **legalAgencyName:** The legal name of the agency receiving the grant.\n",
    "7. **projectType:** The type of project funded by the grant.\n",
    "8. **projectStartDate:** The start date of the project.\n",
    "9. **projectEndDate:** The end date of the project.\n",
    "10. **nameOfProgram:** The name of the program funded by the grant.\n",
    "11. **fundingAmount:** The amount of funding provided by the grant."
   ]
  },
  {
   "cell_type": "markdown",
   "id": "5af40ef6",
   "metadata": {},
   "source": [
    "<a id=\"3\"></a>\n",
    "## Read Data from APIs"
   ]
  },
  {
   "cell_type": "code",
   "execution_count": 2,
   "id": "50594aef",
   "metadata": {
    "ExecuteTime": {
     "end_time": "2023-10-11T19:37:24.069429800Z",
     "start_time": "2023-10-11T19:37:24.058144400Z"
    }
   },
   "outputs": [
    {
     "ename": "SyntaxError",
     "evalue": "invalid syntax (3164607476.py, line 6)",
     "output_type": "error",
     "traceback": [
      "\u001B[1;36m  Cell \u001B[1;32mIn[2], line 6\u001B[1;36m\u001B[0m\n\u001B[1;33m    base_url = https://www.fema.gov/api/open/v1/FemaWebDeclarationAreas\u001B[0m\n\u001B[1;37m                    ^\u001B[0m\n\u001B[1;31mSyntaxError\u001B[0m\u001B[1;31m:\u001B[0m invalid syntax\n"
     ]
    }
   ],
   "source": [
    "\n",
    "columns = [\n",
    "    'state', 'incidentType'\n",
    "]\n",
    "df_summary = pd.DataFrame(columns=columns)\n",
    "\n",
    "base_url = https://www.fema.gov/api/open/v1/FemaWebDeclarationAreas\n",
    "\n",
    "skip = 0\n",
    "top = 1000\n",
    "while True:\n",
    "    url = f\"{base_url}?$skip={skip}&$top={top}\"\n",
    "    response = requests.get(url)\n",
    "    data = json.loads(response.text)\n",
    "    \n",
    "    if not data['DisasterDeclarationsSummaries']:\n",
    "        break\n",
    "    \n",
    "    temp_df = pd.DataFrame(data['DisasterDeclarationsSummaries'])\n",
    "    temp_df = temp_df[columns]\n",
    "    df_summary = pd.concat([df_summary, temp_df], ignore_index=True)\n",
    "    \n",
    "    skip += top\n",
    "\n",
    "df_summary.head(5)\n",
    "\n"
   ]
  },
  {
   "cell_type": "code",
   "execution_count": null,
   "id": "eb1e7c8c",
   "metadata": {
    "ExecuteTime": {
     "start_time": "2023-10-11T15:03:05.012245600Z"
    }
   },
   "outputs": [],
   "source": [
    "df_summary.incidentType.sample"
   ]
  },
  {
   "cell_type": "code",
   "execution_count": null,
   "id": "ea802d90",
   "metadata": {
    "ExecuteTime": {
     "start_time": "2023-10-11T15:03:05.013384400Z"
    }
   },
   "outputs": [],
   "source": [
    "\n",
    "columns = [\n",
    "    'id', 'reportingPeriod', 'state', 'legalAgencyName', 'projectType',\n",
    "    'projectStartDate', 'projectEndDate', 'nameOfProgram', 'fundingAmount'\n",
    "]\n",
    "df = pd.DataFrame(columns=columns)\n",
    "\n",
    "\n",
    "base_url = \"https://www.fema.gov/api/open/v2/EmergencyManagementPerformanceGrants\"\n",
    "\n",
    "\n",
    "skip = 0\n",
    "top = 1000  \n",
    "while True:\n",
    "    url = f\"{base_url}?$skip={skip}&$top={top}\"\n",
    "    response = requests.get(url)\n",
    "    data = json.loads(response.text)\n",
    "    \n",
    "    if not data['EmergencyManagementPerformanceGrants']:\n",
    "        break \n",
    "    \n",
    "    temp_df = pd.DataFrame(data['EmergencyManagementPerformanceGrants'])\n",
    "    df = pd.concat([df, temp_df], ignore_index=True)\n",
    "    \n",
    "    skip += top  \n",
    "\n",
    "\n"
   ]
  },
  {
   "cell_type": "code",
   "execution_count": null,
   "id": "871ae653",
   "metadata": {
    "ExecuteTime": {
     "start_time": "2023-10-11T15:03:05.013384400Z"
    }
   },
   "outputs": [],
   "source": [
    "df.head()"
   ]
  },
  {
   "cell_type": "markdown",
   "id": "81cdb907",
   "metadata": {},
   "source": [
    "<a id=\"4\"></a>\n",
    "## Disaster Distribution Pie"
   ]
  },
  {
   "cell_type": "code",
   "execution_count": null,
   "id": "ade2ece9",
   "metadata": {
    "ExecuteTime": {
     "start_time": "2023-10-11T15:03:05.015417400Z"
    }
   },
   "outputs": [],
   "source": [
    "incident_counts = df_summary['incidentType'].value_counts()\n",
    "\n",
    "fig = px.pie(\n",
    "    names=incident_counts.index,\n",
    "    values=incident_counts.values,\n",
    "    title='Distribution of Disaster Types in the USA',\n",
    "    color_discrete_sequence=px.colors.sequential.Plasma,\n",
    "    hole=0.3,\n",
    "    template='plotly_white'\n",
    ")\n",
    "\n",
    "fig.update_layout(\n",
    "    width=1000,\n",
    "    height=800,\n",
    "    title=dict(\n",
    "        text='Distribution of Disaster Types in the USA',\n",
    "        x=0.5,\n",
    "        y=0.95,\n",
    "        font=dict(color='#333333', size=20)\n",
    "    ),\n",
    "    font=dict(family='monospace'),\n",
    "    legend=dict(\n",
    "        x=1,\n",
    "        y=0.96,\n",
    "        bordercolor='#444444',\n",
    "        borderwidth=0,\n",
    "        tracegroupgap=5\n",
    "    )\n",
    ")\n",
    "\n",
    "\n",
    "fig.show()\n"
   ]
  },
  {
   "cell_type": "markdown",
   "id": "a7407f2c",
   "metadata": {},
   "source": [
    "<a id=\"5\"></a>\n",
    "## Data Wrangling"
   ]
  },
  {
   "cell_type": "code",
   "execution_count": null,
   "id": "819050c4",
   "metadata": {
    "ExecuteTime": {
     "start_time": "2023-10-11T15:03:05.015417400Z"
    }
   },
   "outputs": [],
   "source": [
    "\n",
    "\n",
    "grouped_df = df.groupby('state').agg(\n",
    "    total_funding=pd.NamedAgg(column='fundingAmount', aggfunc='sum'),\n",
    "    total_programs=pd.NamedAgg(column='nameOfProgram', aggfunc='count')\n",
    ").reset_index()\n",
    "\n"
   ]
  },
  {
   "cell_type": "code",
   "execution_count": null,
   "id": "b30887e6",
   "metadata": {
    "ExecuteTime": {
     "start_time": "2023-10-11T15:03:05.016654200Z"
    }
   },
   "outputs": [],
   "source": [
    "\n",
    "grouped_df['total_funding'] = pd.to_numeric(grouped_df['total_funding'], errors='coerce')"
   ]
  },
  {
   "cell_type": "code",
   "execution_count": null,
   "id": "5e678a97",
   "metadata": {
    "ExecuteTime": {
     "start_time": "2023-10-11T15:03:05.017696900Z"
    }
   },
   "outputs": [],
   "source": [
    "grouped_df.head()"
   ]
  },
  {
   "cell_type": "code",
   "execution_count": null,
   "id": "5782a789",
   "metadata": {
    "ExecuteTime": {
     "start_time": "2023-10-11T15:03:05.019093300Z"
    }
   },
   "outputs": [],
   "source": [
    "grouped_df.dtypes"
   ]
  },
  {
   "cell_type": "code",
   "execution_count": null,
   "id": "7eb75b60",
   "metadata": {
    "ExecuteTime": {
     "start_time": "2023-10-11T15:03:05.019093300Z"
    }
   },
   "outputs": [],
   "source": [
    "grouped_df.isnull().sum()"
   ]
  },
  {
   "cell_type": "code",
   "execution_count": null,
   "id": "14490fac",
   "metadata": {
    "ExecuteTime": {
     "start_time": "2023-10-11T15:03:05.020097400Z"
    }
   },
   "outputs": [],
   "source": [
    "state_abbrev_dict = {\n",
    "    'Alabama': 'AL',\n",
    "    'Alaska': 'AK',\n",
    "    'American Samoa': 'AS',\n",
    "    'Arizona': 'AZ',\n",
    "    'Arkansas': 'AR',\n",
    "    'California': 'CA',\n",
    "    'Colorado': 'CO',\n",
    "    'Connecticut': 'CT',\n",
    "    'Delaware': 'DE',\n",
    "    'District of Columbia': 'DC',\n",
    "    'Florida': 'FL',\n",
    "    'Georgia': 'GA',\n",
    "    'Guam': 'GU',\n",
    "    'Hawaii': 'HI',\n",
    "    'Idaho': 'ID',\n",
    "    'Illinois': 'IL',\n",
    "    'Indiana': 'IN',\n",
    "    'Iowa': 'IA',\n",
    "    'Kansas': 'KS',\n",
    "    'Kentucky': 'KY',\n",
    "    'Louisiana': 'LA',\n",
    "    'Maine': 'ME',\n",
    "    'Maryland': 'MD',\n",
    "    'Massachusetts': 'MA',\n",
    "    'Michigan': 'MI',\n",
    "    'Minnesota': 'MN',\n",
    "    'Mississippi': 'MS',\n",
    "    'Missouri': 'MO',\n",
    "    'Montana': 'MT',\n",
    "    'Nebraska': 'NE',\n",
    "    'Nevada': 'NV',\n",
    "    'New Hampshire': 'NH',\n",
    "    'New Jersey': 'NJ',\n",
    "    'New Mexico': 'NM',\n",
    "    'New York': 'NY',\n",
    "    'North Carolina': 'NC',\n",
    "    'North Dakota': 'ND',\n",
    "    'Northern Mariana Islands': 'MP',\n",
    "    'Ohio': 'OH',\n",
    "    'Oklahoma': 'OK',\n",
    "    'Oregon': 'OR',\n",
    "    'Pennsylvania': 'PA',\n",
    "    'Puerto Rico': 'PR',\n",
    "    'Rhode Island': 'RI',\n",
    "    'South Carolina': 'SC',\n",
    "    'South Dakota': 'SD',\n",
    "    'Tennessee': 'TN',\n",
    "    'Texas': 'TX',\n",
    "    'Utah': 'UT',\n",
    "    'Vermont': 'VT',\n",
    "    'Virgin Islands': 'VI',\n",
    "    'Virginia': 'VA',\n",
    "    'Washington': 'WA',\n",
    "    'West Virginia': 'WV',\n",
    "    'Wisconsin': 'WI',\n",
    "    'Wyoming': 'WY'\n",
    "}\n",
    "\n",
    "grouped_df['state_abbrev'] = grouped_df['state'].map(state_abbrev_dict)\n"
   ]
  },
  {
   "cell_type": "code",
   "execution_count": null,
   "id": "a38a8bda",
   "metadata": {
    "ExecuteTime": {
     "start_time": "2023-10-11T15:03:05.021095600Z"
    }
   },
   "outputs": [],
   "source": [
    "df_summary.rename(columns={'state': 'state_abbrev'}, inplace=True)\n"
   ]
  },
  {
   "cell_type": "code",
   "execution_count": null,
   "id": "90141913",
   "metadata": {
    "ExecuteTime": {
     "start_time": "2023-10-11T15:03:05.021095600Z"
    }
   },
   "outputs": [],
   "source": [
    "disaster_count = df_summary.groupby('state_abbrev')['incidentType'].count().reset_index()\n",
    "disaster_count.columns = ['state_abbrev', 'total_disasters']\n",
    "grouped_df = pd.merge(grouped_df, disaster_count, on='state_abbrev', how='left')\n"
   ]
  },
  {
   "cell_type": "code",
   "execution_count": null,
   "id": "4cf4b78a",
   "metadata": {
    "ExecuteTime": {
     "start_time": "2023-10-11T15:03:05.022408Z"
    }
   },
   "outputs": [],
   "source": [
    "grouped_df.head()"
   ]
  },
  {
   "cell_type": "markdown",
   "id": "1e1afdcf",
   "metadata": {},
   "source": [
    "<a id=\"6\"></a>\n",
    "## Dash App"
   ]
  },
  {
   "cell_type": "code",
   "execution_count": null,
   "id": "f09cc91f",
   "metadata": {
    "ExecuteTime": {
     "start_time": "2023-10-11T15:03:05.023411500Z"
    }
   },
   "outputs": [],
   "source": [
    "\n",
    "app = dash.Dash(__name__)\n",
    "\n",
    "app.layout = html.Div([\n",
    "    dcc.Dropdown(\n",
    "        id='indicator-dropdown',\n",
    "        options=[\n",
    "            {'label': 'Total Funding', 'value': 'total_funding'},\n",
    "            {'label': 'Total Disasters', 'value': 'total_disasters'}\n",
    "        ],\n",
    "        value='total_disasters'\n",
    "    ),\n",
    "    dcc.Graph(id='choropleth-map'),\n",
    "    dcc.Graph(id='pie-chart', style={'display': 'none'})\n",
    "])"
   ]
  },
  {
   "cell_type": "code",
   "execution_count": null,
   "id": "ba28ca64",
   "metadata": {
    "scrolled": false,
    "ExecuteTime": {
     "start_time": "2023-10-11T15:03:05.023411500Z"
    }
   },
   "outputs": [],
   "source": [
    "@app.callback(\n",
    "    [Output('choropleth-map', 'figure'),\n",
    "     Output('pie-chart', 'figure'),\n",
    "     Output('pie-chart', 'style')],\n",
    "    [Input('choropleth-map', 'clickData'),\n",
    "     Input('indicator-dropdown', 'value')]\n",
    ")\n",
    "def update_graph(clickData, selected_indicator):\n",
    "    color_scale = custom_tiffany_scale if selected_indicator == 'total_funding' else custom_red_scale\n",
    "\n",
    "    fig_map = px.choropleth(\n",
    "        grouped_df,\n",
    "        locations='state_abbrev',\n",
    "        color=selected_indicator,\n",
    "        locationmode='USA-states',\n",
    "        scope='usa',\n",
    "        color_continuous_scale=color_scale\n",
    "    )\n",
    "\n",
    "    fig_pie = px.pie()\n",
    "    pie_style = {'display': 'none'}\n",
    "\n",
    "    if clickData and 'points' in clickData and len(clickData['points']) > 0:\n",
    "        state_abbrev = clickData['points'][0].get('location', None)\n",
    "        if state_abbrev:\n",
    "            state_name = state_abbrev\n",
    "            \n",
    "            if selected_indicator == 'total_disasters':\n",
    "                pie_data = df_summary[df_summary['state_abbrev'] == state_name]['incidentType'].value_counts()\n",
    "                fig_pie = px.pie(pie_data, names=pie_data.index, values=pie_data.values)\n",
    "                pie_style = {'display': 'block'}\n",
    "\n",
    "            total_value = grouped_df[grouped_df['state_abbrev'] == state_abbrev][selected_indicator].values[0]\n",
    "            fig_map.update_layout(\n",
    "                title=f\"{selected_indicator} by State (Selected: {state_name}, {selected_indicator}: {total_value})\"\n",
    "            )\n",
    "            \n",
    "\n",
    "\n",
    "    return fig_map, fig_pie, pie_style\n"
   ]
  },
  {
   "cell_type": "code",
   "execution_count": null,
   "id": "9ae67710",
   "metadata": {
    "ExecuteTime": {
     "start_time": "2023-10-11T15:03:05.024410300Z"
    }
   },
   "outputs": [],
   "source": []
  },
  {
   "cell_type": "code",
   "execution_count": null,
   "id": "c2388738",
   "metadata": {
    "ExecuteTime": {
     "start_time": "2023-10-11T15:03:05.024410300Z"
    }
   },
   "outputs": [],
   "source": [
    "if __name__ == '__main__':\n",
    "    app.run_server(debug=True)"
   ]
  },
  {
   "cell_type": "markdown",
   "source": [
    "## Summary\n",
    "After launching the disaster-funding Dash app, we gain a visual and intuitive understanding of both the frequency of disasters affecting each state and the amount of federal emergency funding allocated to them. By interacting with the \"Total Disaster\" map and clicking on individual states, we can instantly access detailed data on the distribution of different types of disasters affecting each state. By clicking on the \"Total Funding\" map, we can see the federal emergency funding received by each state. Complementing this, a separate accompanying chart provides insights into the relative prevalence of various disaster types as a percentage of the total number of disasters that have occurred nationwide. \n",
    "\n",
    "Following this, we can integrate various data points to analyze the current state of disaster response in each state. For example, if a state like Kentucky has a high proportion of disasters but receives relatively less funding, it may suggest that this state requires more assistance from both the government and society at large. On the other hand, if a state has a lower proportion of disasters but receives more funding, like California, this could mean that the state effectively uses its ample budget for various disaster preparations and has the capacity to mitigate the secondary hazards that accompany disasters. At this point, we may consider whether this state could improve efficiency, maintain its disaster response capabilities while reducing its need for federal funding, and thereby freeing up some budget for other states.\n",
    "\n",
    "Another scenario that requires consideration is when a state, despite receiving substantial funding, still experiences a high number of disaster declarations. In such cases, it's important to understand the root cause: whether the state still needs more emergency response funding for disaster prevention and relief, or whether the state's use of funds is inefficient. Take Texas, for example; by clicking on Texas in the \"Total Disaster\" map, we can see that its disaster pie chart is quite similar to other states with fewer disaster declarations. Moreover, the proportion of uncontrollable natural disasters like hurricanes and severe storms is considerably high. Additionally, the proportion of fires in Texas is even lower compared to other areas that perform well in this metric. This suggests that the issue isn't with Texas' efficiency in utilizing funds, but rather its relatively harsh natural environment may be the reason why, despite receiving more funding, it still experiences frequent disasters.\n",
    "\n",
    "Beyond analyzing the allocation and efficiency of federal funding, the information provided by this app can offer even greater value. Insurance companies can use the \"Total Disaster\" map to determine the specific services and corresponding prices of insurance products they offer in different regions, based on the proportion of each type of disaster. Companies selling emergency supplies can also use the data from the \"Total Disaster\" map to decide what types of products to pre-stock in local warehouses. This could not only reduce the time and cost of logistics but also alleviate the strain on transportation networks during disaster relief efforts. These are economically impactful considerations that are worth exploring."
   ],
   "metadata": {
    "collapsed": false
   },
   "id": "39a5b08f95817c7d"
  },
  {
   "cell_type": "code",
   "execution_count": null,
   "id": "677f2fe9",
   "metadata": {
    "ExecuteTime": {
     "start_time": "2023-10-11T15:03:05.025902Z"
    }
   },
   "outputs": [],
   "source": []
  },
  {
   "cell_type": "code",
   "execution_count": null,
   "id": "6bb582ec",
   "metadata": {
    "ExecuteTime": {
     "start_time": "2023-10-11T15:03:05.026906400Z"
    }
   },
   "outputs": [],
   "source": []
  }
 ],
 "metadata": {
  "kernelspec": {
   "display_name": "Python 3 (ipykernel)",
   "language": "python",
   "name": "python3"
  },
  "language_info": {
   "codemirror_mode": {
    "name": "ipython",
    "version": 3
   },
   "file_extension": ".py",
   "mimetype": "text/x-python",
   "name": "python",
   "nbconvert_exporter": "python",
   "pygments_lexer": "ipython3",
   "version": "3.9.12"
  }
 },
 "nbformat": 4,
 "nbformat_minor": 5
}
